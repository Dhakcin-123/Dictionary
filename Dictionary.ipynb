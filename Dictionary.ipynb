{
  "nbformat": 4,
  "nbformat_minor": 0,
  "metadata": {
    "colab": {
      "provenance": [],
      "authorship_tag": "ABX9TyOJPi9naS4j6vwsYLIBCdTZ",
      "include_colab_link": true
    },
    "kernelspec": {
      "name": "python3",
      "display_name": "Python 3"
    },
    "language_info": {
      "name": "python"
    }
  },
  "cells": [
    {
      "cell_type": "markdown",
      "metadata": {
        "id": "view-in-github",
        "colab_type": "text"
      },
      "source": [
        "<a href=\"https://colab.research.google.com/github/Dhakcin-123/Dictionary/blob/main/Dictionary.ipynb\" target=\"_parent\"><img src=\"https://colab.research.google.com/assets/colab-badge.svg\" alt=\"Open In Colab\"/></a>"
      ]
    },
    {
      "cell_type": "code",
      "execution_count": null,
      "metadata": {
        "id": "TebZC5Xox2nS"
      },
      "outputs": [],
      "source": [
        "dictionary = {\n",
        "    \"Key1\":\"Value1\",\n",
        "    \"Key2\":\"Value2\"\n",
        "}"
      ]
    },
    {
      "cell_type": "code",
      "source": [
        "person = {\n",
        "    \"Name\":\"John\",\n",
        "    \"Age\":19,\n",
        "    \"City\":\"Washington\"\n",
        "}\n",
        "print(person.get('Age'))"
      ],
      "metadata": {
        "colab": {
          "base_uri": "https://localhost:8080/"
        },
        "id": "s6OSQMjyzP_O",
        "outputId": "e469bcf0-1a26-467b-f52a-cd95cb76c8af"
      },
      "execution_count": 3,
      "outputs": [
        {
          "output_type": "stream",
          "name": "stdout",
          "text": [
            "19\n"
          ]
        }
      ]
    },
    {
      "cell_type": "code",
      "source": [
        "person = {\n",
        "    \"Name\":\"John\",\n",
        "    \"Age\":19,\n",
        "    \"City\":\"Washington\"\n",
        "}\n",
        "print(person[\"Age\"])"
      ],
      "metadata": {
        "colab": {
          "base_uri": "https://localhost:8080/"
        },
        "id": "onEZF7yz0jPa",
        "outputId": "6eaf28ef-1bc0-493b-f600-d6f6d020bd24"
      },
      "execution_count": 4,
      "outputs": [
        {
          "output_type": "stream",
          "name": "stdout",
          "text": [
            "19\n"
          ]
        }
      ]
    },
    {
      "cell_type": "code",
      "source": [
        "person = {\n",
        "    \"Name\":\"John\",\n",
        "    \"Age\":19,\n",
        "    \"City\":\"Washington\"\n",
        "}\n",
        "\n",
        "person[\"Country\"]=\"United State of America\"\n",
        "\n",
        "print(person)"
      ],
      "metadata": {
        "colab": {
          "base_uri": "https://localhost:8080/"
        },
        "id": "ErR-dw9W0wVO",
        "outputId": "2f7ca788-88b9-4d84-8956-3849554dd35a"
      },
      "execution_count": 5,
      "outputs": [
        {
          "output_type": "stream",
          "name": "stdout",
          "text": [
            "{'Name': 'John', 'Age': 19, 'City': 'Washington', 'Country': 'United State of America'}\n"
          ]
        }
      ]
    },
    {
      "cell_type": "code",
      "source": [
        "person[\"Age\"]=20\n",
        "print(person)"
      ],
      "metadata": {
        "colab": {
          "base_uri": "https://localhost:8080/"
        },
        "id": "uIbFTvp51K_N",
        "outputId": "53f96fc1-93c2-4b08-c6fd-2b72f84395ca"
      },
      "execution_count": 7,
      "outputs": [
        {
          "output_type": "stream",
          "name": "stdout",
          "text": [
            "{'Name': 'John', 'Age': 20, 'City': 'Washington', 'Country': 'United State of America'}\n"
          ]
        }
      ]
    },
    {
      "cell_type": "code",
      "source": [
        "del person[\"City\"]\n",
        "print(person)"
      ],
      "metadata": {
        "colab": {
          "base_uri": "https://localhost:8080/"
        },
        "id": "OVAlUTGq1dcT",
        "outputId": "d7403bc3-ae3c-4f0e-b980-f1ccd83d7842"
      },
      "execution_count": 8,
      "outputs": [
        {
          "output_type": "stream",
          "name": "stdout",
          "text": [
            "{'Name': 'John', 'Age': 20, 'Country': 'United State of America'}\n"
          ]
        }
      ]
    },
    {
      "cell_type": "code",
      "source": [
        "age = person.pop(\"Age\")\n",
        "print(person)"
      ],
      "metadata": {
        "colab": {
          "base_uri": "https://localhost:8080/"
        },
        "id": "IBYNu2kZ1sgE",
        "outputId": "82f13012-f884-46d6-9bb4-619dffca16d1"
      },
      "execution_count": 9,
      "outputs": [
        {
          "output_type": "stream",
          "name": "stdout",
          "text": [
            "{'Name': 'John', 'Country': 'United State of America'}\n"
          ]
        }
      ]
    },
    {
      "cell_type": "code",
      "source": [
        "print(person.keys())\n",
        "print(person.values())"
      ],
      "metadata": {
        "colab": {
          "base_uri": "https://localhost:8080/"
        },
        "id": "1JHOI7Tw2FL5",
        "outputId": "68374d6b-1f21-4c32-e23c-8a4d5e090d75"
      },
      "execution_count": 11,
      "outputs": [
        {
          "output_type": "stream",
          "name": "stdout",
          "text": [
            "dict_keys(['Name', 'Country'])\n",
            "dict_values(['John', 'United State of America'])\n"
          ]
        }
      ]
    },
    {
      "cell_type": "code",
      "source": [
        "print(person.items())"
      ],
      "metadata": {
        "colab": {
          "base_uri": "https://localhost:8080/"
        },
        "id": "A_i7OvkY2f8U",
        "outputId": "7640e8b0-05db-45d2-927a-cf55074dc8b8"
      },
      "execution_count": 12,
      "outputs": [
        {
          "output_type": "stream",
          "name": "stdout",
          "text": [
            "dict_items([('Name', 'John'), ('Country', 'United State of America')])\n"
          ]
        }
      ]
    },
    {
      "cell_type": "code",
      "source": [
        "person.update({\"City\":\"Luxemburg\"})\n",
        "print(person)"
      ],
      "metadata": {
        "colab": {
          "base_uri": "https://localhost:8080/"
        },
        "id": "8QMYHI0f2uZV",
        "outputId": "f9517193-cdd2-4226-c078-3ecc9726814a"
      },
      "execution_count": 14,
      "outputs": [
        {
          "output_type": "stream",
          "name": "stdout",
          "text": [
            "{'Name': 'John', 'Country': 'United State of America', 'City': 'Luxemburg'}\n"
          ]
        }
      ]
    },
    {
      "cell_type": "code",
      "source": [
        "company ={\n",
        "    \"Employee1\":{\"Name\":\"John\",\n",
        "                 \"Age\":39},\n",
        "    \"Employee2\":{\"Name\":\"Jake\",\n",
        "                 \"Age\":54}\n",
        "}\n",
        "print(company[\"Employee1\"][\"Age\"])"
      ],
      "metadata": {
        "colab": {
          "base_uri": "https://localhost:8080/"
        },
        "id": "cKaQ-TUs33jY",
        "outputId": "5ecd804e-3b84-4268-bbe6-b786ddcf37ef"
      },
      "execution_count": 16,
      "outputs": [
        {
          "output_type": "stream",
          "name": "stdout",
          "text": [
            "39\n"
          ]
        }
      ]
    },
    {
      "cell_type": "code",
      "source": [
        "a = {\n",
        "    \"Name\":\"Ayaan\",\n",
        "    \"Age\":67,\n",
        "    \"Place\":\"Beijing\",\n",
        "    \"Number\":558855423,\n",
        "    \"Hobby\":\"Chess\"\n",
        "}\n",
        "print(a.keys())\n",
        "a.update({\"Proffesion\":\"Chef\"})\n",
        "print(a)\n",
        "del a[\"Place\"]\n",
        "print(a)"
      ],
      "metadata": {
        "colab": {
          "base_uri": "https://localhost:8080/"
        },
        "id": "1Kf4uIHk46MM",
        "outputId": "381faf34-4a5f-40c6-91b9-cf74fa39377d"
      },
      "execution_count": 23,
      "outputs": [
        {
          "output_type": "stream",
          "name": "stdout",
          "text": [
            "dict_keys(['Name', 'Age', 'Place', 'Number', 'Hobby'])\n",
            "{'Name': 'Ayaan', 'Age': 67, 'Place': 'Beijing', 'Number': 558855423, 'Hobby': 'Chess', 'Proffesion': 'Chef'}\n",
            "{'Name': 'Ayaan', 'Age': 67, 'Number': 558855423, 'Hobby': 'Chess', 'Proffesion': 'Chef'}\n"
          ]
        }
      ]
    },
    {
      "cell_type": "code",
      "source": [
        "s = {\n",
        "    \"s1\":{\"Name\":\"Paul\",\n",
        "          \"Age\":12,\n",
        "          \"Grade\":9},\n",
        "    \"s2\":{\"Name\":\"Leo\",\n",
        "          \"Age\":14,\n",
        "          \"Grade\":9}\n",
        "}\n",
        "print(s[\"s2\"][\"Age\"])\n",
        "print(s.get(\"s2\"))"
      ],
      "metadata": {
        "colab": {
          "base_uri": "https://localhost:8080/"
        },
        "id": "s-Y-aDpa6T13",
        "outputId": "c8e6d790-b06c-45f2-f9f6-e3d22aa43851"
      },
      "execution_count": 28,
      "outputs": [
        {
          "output_type": "stream",
          "name": "stdout",
          "text": [
            "14\n",
            "{'Name': 'Leo', 'Age': 14, 'Grade': 9}\n"
          ]
        }
      ]
    },
    {
      "cell_type": "markdown",
      "source": [
        "A dictionary is an unnordered and mutable collectioon of key value pairs.\n",
        "Key is always unique but value can be any data type."
      ],
      "metadata": {
        "id": "lDk0ZTJSx-Eg"
      }
    }
  ]
}